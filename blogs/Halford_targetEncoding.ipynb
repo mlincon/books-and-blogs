{
 "cells": [
  {
   "cell_type": "markdown",
   "metadata": {},
   "source": [
    "## Target encoding done the right way\n",
    "Author: Max Halford   \n",
    "Source: https://maxhalford.github.io/blog/target-encoding/"
   ]
  },
  {
   "cell_type": "code",
   "execution_count": 1,
   "metadata": {},
   "outputs": [],
   "source": [
    "import pandas as pd"
   ]
  },
  {
   "cell_type": "markdown",
   "metadata": {},
   "source": [
    "### Target Encoding (without Smoothing)"
   ]
  },
  {
   "cell_type": "code",
   "execution_count": 2,
   "metadata": {},
   "outputs": [
    {
     "name": "stdout",
     "output_type": "stream",
     "text": [
      "  x_0 x_1  y\n",
      "0   a   c  1\n",
      "1   a   c  1\n",
      "2   a   c  1\n",
      "3   a   c  1\n",
      "4   a   c  0\n",
      "5   b   c  1\n",
      "6   b   c  0\n",
      "7   b   c  0\n",
      "8   b   c  0\n",
      "9   b   d  0\n"
     ]
    }
   ],
   "source": [
    "# The dataframe\n",
    "df = pd.DataFrame({\n",
    "    'x_0': ['a']*5 + ['b']*5,\n",
    "    'x_1': ['c']*9 + ['d']*1,\n",
    "    'y': [1, 1, 1, 1, 0, 1, 0, 0, 0, 0]\n",
    "})\n",
    "print(df)"
   ]
  },
  {
   "cell_type": "code",
   "execution_count": 3,
   "metadata": {},
   "outputs": [],
   "source": [
    "# compute the means of target variable y w.r.t to each of the categorical variable x_i\n",
    "means_x0 = df.groupby('x_0')['y'].mean()\n",
    "means_x1 = df.groupby('x_1')['y'].mean()"
   ]
  },
  {
   "cell_type": "code",
   "execution_count": 4,
   "metadata": {},
   "outputs": [
    {
     "name": "stdout",
     "output_type": "stream",
     "text": [
      "   x_0       x_1  y\n",
      "0  0.8  0.555556  1\n",
      "1  0.8  0.555556  1\n",
      "2  0.8  0.555556  1\n",
      "3  0.8  0.555556  1\n",
      "4  0.8  0.555556  0\n",
      "5  0.2  0.555556  1\n",
      "6  0.2  0.555556  0\n",
      "7  0.2  0.555556  0\n",
      "8  0.2  0.555556  0\n",
      "9  0.2  0.000000  0\n"
     ]
    }
   ],
   "source": [
    "# replace the values of categorical variable with the respective computed means\n",
    "df['x_0'] = df['x_0'].map(means_x0)\n",
    "df['x_1'] = df['x_1'].map(means_x1)\n",
    "print(df)"
   ]
  },
  {
   "cell_type": "markdown",
   "metadata": {},
   "source": [
    "### Target Encoding with Additive or Laplace Smoothing\n",
    "$$ \\mu = \\frac{n \\times \\bar{x} + m \\times w}{n + m} $$  \n",
    "where   \n",
    "    - $\\mu$ is the mean that will replace the categorical values  \n",
    "    - $n$ is the number of values we have  \n",
    "    - $\\bar{x}$ is the estimated mean  \n",
    "    - $m$ is the weight assigned to overall mean  \n",
    "    - $w$ is the overall mean  \n",
    "if $w = 0$, then we get the normal empirical mean\n",
    "$$\\mu = \\frac{n \\times \\bar{x} + m \\times w}{n + m} = \\frac{n \\times \\bar{x}}{n} = \\bar{x}$$"
   ]
  },
  {
   "cell_type": "code",
   "execution_count": 5,
   "metadata": {},
   "outputs": [],
   "source": [
    "def calc_smooth_mean(df, by, on, m):\n",
    "    '''\n",
    "    df: pandas dataframe\n",
    "    by: categorical column name\n",
    "    on: target column name\n",
    "    m: weight assigned to overall mean\n",
    "    '''\n",
    "\n",
    "    # global mean (w)\n",
    "    mean_w = df[on].mean()\n",
    "\n",
    "    # number of values (n) and mean of each group (x_bar)\n",
    "    agg = df.groupby(by)[on].agg(['count', 'mean'])\n",
    "    counts_n = agg['count']\n",
    "    means_xbar = agg['mean']\n",
    "\n",
    "    # compute smoothed means\n",
    "    smooth_mu = (counts_n * means_xbar + m * mean_w) / (counts_n + m)\n",
    "\n",
    "    # replace the categorical column by the smoothed mean\n",
    "    return df[by].map(smooth_mu)"
   ]
  },
  {
   "cell_type": "code",
   "execution_count": 6,
   "metadata": {},
   "outputs": [],
   "source": [
    "# redefine dataframe\n",
    "# The dataframe\n",
    "df = pd.DataFrame({\n",
    "    'x_0': ['a']*5 + ['b']*5,\n",
    "    'x_1': ['c']*9 + ['d']*1,\n",
    "    'y': [1, 1, 1, 1, 0, 1, 0, 0, 0, 0]\n",
    "})"
   ]
  },
  {
   "cell_type": "code",
   "execution_count": 7,
   "metadata": {},
   "outputs": [
    {
     "name": "stdout",
     "output_type": "stream",
     "text": [
      "Column: x_0:\n",
      "0    0.8\n",
      "1    0.8\n",
      "2    0.8\n",
      "3    0.8\n",
      "4    0.8\n",
      "5    0.2\n",
      "6    0.2\n",
      "7    0.2\n",
      "8    0.2\n",
      "9    0.2\n",
      "Name: x_0, dtype: float64\n"
     ]
    }
   ],
   "source": [
    "# reproduce the non-smoothing means (m=0)\n",
    "print('Column: x_0:')\n",
    "print(calc_smooth_mean(df, by='x_0', on='y', m=0))"
   ]
  },
  {
   "cell_type": "code",
   "execution_count": 8,
   "metadata": {},
   "outputs": [
    {
     "name": "stdout",
     "output_type": "stream",
     "text": [
      "Column: x_1:\n",
      "0    0.555556\n",
      "1    0.555556\n",
      "2    0.555556\n",
      "3    0.555556\n",
      "4    0.555556\n",
      "5    0.555556\n",
      "6    0.555556\n",
      "7    0.555556\n",
      "8    0.555556\n",
      "9    0.000000\n",
      "Name: x_1, dtype: float64\n"
     ]
    }
   ],
   "source": [
    "print('Column: x_1:')\n",
    "print(calc_smooth_mean(df, by='x_1', on='y', m=0))"
   ]
  },
  {
   "cell_type": "code",
   "execution_count": 9,
   "metadata": {},
   "outputs": [
    {
     "data": {
      "text/plain": [
       "0    0.526316\n",
       "1    0.526316\n",
       "2    0.526316\n",
       "3    0.526316\n",
       "4    0.526316\n",
       "5    0.526316\n",
       "6    0.526316\n",
       "7    0.526316\n",
       "8    0.526316\n",
       "9    0.454545\n",
       "Name: x_1, dtype: float64"
      ]
     },
     "execution_count": 9,
     "metadata": {},
     "output_type": "execute_result"
    }
   ],
   "source": [
    "calc_smooth_mean(df, by='x_1', on='y', m=10)"
   ]
  },
  {
   "cell_type": "code",
   "execution_count": 10,
   "metadata": {},
   "outputs": [
    {
     "name": "stdout",
     "output_type": "stream",
     "text": [
      "Column: x_0:\n",
      "0    0.6\n",
      "1    0.6\n",
      "2    0.6\n",
      "3    0.6\n",
      "4    0.6\n",
      "5    0.4\n",
      "6    0.4\n",
      "7    0.4\n",
      "8    0.4\n",
      "9    0.4\n",
      "Name: x_0, dtype: float64\n"
     ]
    }
   ],
   "source": [
    "# use m=10\n",
    "print('Column: x_0:')\n",
    "print(calc_smooth_mean(df, by='x_0', on='y', m=10))"
   ]
  },
  {
   "cell_type": "code",
   "execution_count": 11,
   "metadata": {},
   "outputs": [
    {
     "name": "stdout",
     "output_type": "stream",
     "text": [
      "Column: x_1:\n",
      "0    0.526316\n",
      "1    0.526316\n",
      "2    0.526316\n",
      "3    0.526316\n",
      "4    0.526316\n",
      "5    0.526316\n",
      "6    0.526316\n",
      "7    0.526316\n",
      "8    0.526316\n",
      "9    0.454545\n",
      "Name: x_1, dtype: float64\n"
     ]
    }
   ],
   "source": [
    "print('Column: x_1:')\n",
    "print(calc_smooth_mean(df, by='x_1', on='y', m=10))"
   ]
  },
  {
   "cell_type": "markdown",
   "metadata": {},
   "source": [
    "Author mentions that $m=300$ works well in most cases:\n",
    "```\n",
    "you’re saying that you require that there must be at least 300 values for the sample mean to overtake the global mean\n",
    "```"
   ]
  }
 ],
 "metadata": {
  "kernelspec": {
   "display_name": "Python 3",
   "language": "python",
   "name": "python3"
  },
  "language_info": {
   "codemirror_mode": {
    "name": "ipython",
    "version": 3
   },
   "file_extension": ".py",
   "mimetype": "text/x-python",
   "name": "python",
   "nbconvert_exporter": "python",
   "pygments_lexer": "ipython3",
   "version": "3.8.5"
  }
 },
 "nbformat": 4,
 "nbformat_minor": 2
}
